{
  "nbformat": 4,
  "nbformat_minor": 0,
  "metadata": {
    "orig_nbformat": 2,
    "deepnote_notebook_id": "0dd2b3a0-17da-4fb5-bc8e-9bad0f73aa36",
    "deepnote": {},
    "deepnote_execution_queue": [],
    "colab": {
      "name": "Colombia Exports/Imports.ipynb",
      "provenance": [],
      "collapsed_sections": [],
      "toc_visible": true,
      "include_colab_link": true
    },
    "kernelspec": {
      "name": "python3",
      "display_name": "Python 3"
    }
  },
  "cells": [
    {
      "cell_type": "markdown",
      "metadata": {
        "id": "view-in-github",
        "colab_type": "text"
      },
      "source": [
        "<a href=\"https://colab.research.google.com/github/deoa17/Colombia-exports-and-imports/blob/main/Colombia_Exports_Imports.ipynb\" target=\"_parent\"><img src=\"https://colab.research.google.com/assets/colab-badge.svg\" alt=\"Open In Colab\"/></a>"
      ]
    },
    {
      "cell_type": "markdown",
      "metadata": {
        "tags": [],
        "cell_id": "00000-5201b61d-0fc0-46c7-9f68-7112f7f3415e",
        "deepnote_cell_type": "markdown",
        "id": "nweK4oMGIC4Z"
      },
      "source": [
        "# Consideraciones  generales\n",
        "Para una correcta participación en la competencia **Data Thriatlon** sigue este formato de notebook propuestó por el equipo de data de Platzi. Esto ayudará en la calificación de tu notebook.\n",
        "\n",
        "Secciones del notebook:\n",
        "\n",
        "* Extracción de datos adicionales (0-20%)\n",
        "* Limpieza y transformación de datos. (0-20%)\n",
        "* Analisís exploratorio (*analytics, data visualization y storytelling*). (0-60%)\n",
        "* Modelo (opcional).\n",
        "\n",
        "*Para revisar las reglas de la competencia ve a este [blogpost](https://platzi.com/blog/olimpiadas-data-triathlon/)."
      ]
    },
    {
      "cell_type": "markdown",
      "metadata": {
        "id": "tpC93SxLMjp4"
      },
      "source": [
        "# ¿Qué hay en los datos?\r\n",
        "\r\n",
        "En los datos encontrarás información de las **exportaciones e importaciones de Colombia de 1962 a 2017**. Fueron extraídos del [OEC: The Observatory of Economic Complexity](https://legacy.oec.world/en/).\r\n",
        "\r\n",
        "Tu labor será desarrollar un análisis exploratorio para encontrar insights valiosos a partir de esos datos y otros que recopiles.\r\n",
        "\r\n"
      ]
    },
    {
      "cell_type": "markdown",
      "metadata": {
        "tags": [],
        "cell_id": "00001-ca67080c-dfda-4902-9305-82074674b6b7",
        "deepnote_cell_type": "markdown",
        "id": "BdmykIdmIC4e"
      },
      "source": [
        "## Preguntas\n",
        "\n",
        "Para el desarrollo de tu análisis puedes resolver las siguientes preguntas:\n",
        "\n",
        "1. ¿Cuál es el top 10 países a los que Colombia exporta sus productos y su evolución con respecto al tiempo?\n",
        "2. ¿Cuál es el top 10 países de los que Colombia importa sus productos y su evolución con respecto al tiempo?\n",
        "3. ¿Existe algún producto que debido a cambios económicos en la oferta/demanda halla causado un decremento en el volumen de dinero que se mueve con él?\n",
        "4. ¿Cuáles sectores económicos tienen mayor importancia en las exportaciones de Colombia y por qué?\n",
        "\n",
        "**También puedes resolver preguntas que a ti se te ocurran.**"
      ]
    },
    {
      "cell_type": "markdown",
      "metadata": {
        "tags": [],
        "cell_id": "00001-890a8c5f-b34c-44d1-b017-363dd283568f",
        "deepnote_cell_type": "markdown",
        "id": "gy97sDHWIC4h"
      },
      "source": [
        "# Extracción de datos adicionales (0-20%)\n",
        "\n",
        "Para extraer información adicional a la proporcionada por Platzi puedes extraerla directamente de la fuente de datos original. El dataset cuenta con la información extraída del *OEC: The Observatory of Economic Complexity*, específicamente de la versión legacy la cual permite la descarga de archivos a partir de una URL y de la API expuesta por ellos.\n",
        "\n",
        "- [https://legacy.oec.world/en/resources/data/](https://legacy.oec.world/en/resources/data/)\n",
        "- [https://legacy.oec.world/api/](https://legacy.oec.world/api/)\n",
        "\n",
        "**Para tu análisis recolecta más datos de esta y otras fuentes que veas necesarias.**"
      ]
    },
    {
      "cell_type": "markdown",
      "metadata": {
        "id": "Lfph-rIv8QM1"
      },
      "source": [
        "## 1. The first step, we need to have a look in all the data\r\n",
        "I am looking forward to know what information have all this archives and how much data we are going to work in, so let's get started."
      ]
    },
    {
      "cell_type": "code",
      "metadata": {
        "tags": [],
        "cell_id": "00002-c8fc7ae9-e2c7-4612-bb42-7a7daad80fcf",
        "deepnote_to_be_reexecuted": false,
        "source_hash": "b623e53d",
        "execution_start": 1614721939610,
        "execution_millis": 0,
        "deepnote_cell_type": "code",
        "id": "bjZc9mUOIC4j",
        "colab": {
          "base_uri": "https://localhost:8080/"
        },
        "outputId": "18a4d3bd-20fa-4066-9915-eef234a81972"
      },
      "source": [
        "#I have already upload all the archives in my google drive \r\n",
        "from google.colab import drive\r\n",
        "drive.mount('/content/drive/')\r\n",
        "\r\n",
        "#We are going to use pandas to read the information\r\n",
        "import pandas as pd\r\n",
        "path = 'drive/MyDrive/Colab Notebooks/notebook_data_triathlon/'"
      ],
      "execution_count": null,
      "outputs": [
        {
          "output_type": "stream",
          "text": [
            "Mounted at /content/drive/\n"
          ],
          "name": "stdout"
        }
      ]
    },
    {
      "cell_type": "code",
      "metadata": {
        "cellView": "code",
        "id": "HlGabxijtI4I"
      },
      "source": [
        "#All the archives are delimited by \"|\" \n",
        "df_colombia_exports = pd.read_csv(path+'colombia_exports.csv', delimiter='|')\n",
        "df_colombia_imports = pd.read_csv(path+'colombia_imports.csv', delimiter='|')\n",
        "df_country_names = pd.read_csv(path+'country_names.csv', delimiter='|', index_col=0)\n",
        "df_groups_sitc_rev2 = pd.read_csv(path+'groups_sitc_rev2.csv', delimiter='|', index_col=0)\n",
        "df_groups_sitc_rev22 = pd.read_csv(path+'groups_sitc_rev2.csv', delimiter='|', index_col=0)\n",
        "df_products_sitc_rev2 = pd.read_csv(path+'products_sitc_rev2.csv',delimiter='|', index_col=0)"
      ],
      "execution_count": null,
      "outputs": []
    },
    {
      "cell_type": "code",
      "metadata": {
        "colab": {
          "base_uri": "https://localhost:8080/"
        },
        "id": "V8gUcSTmzwsA",
        "outputId": "344a1abc-1103-43f4-f7a3-c26eb6956b91"
      },
      "source": [
        "#Let's have a look at the first rows of each archive\r\n",
        "print(f'df_colombia_exports\\n\\n{df_colombia_exports.head()}\\n')\r\n",
        "print(f'df_colombia_imports\\n\\n{df_colombia_imports.head()}\\n')\r\n",
        "print(f'df_country_names\\n\\n{df_country_names.head()}\\n')\r\n",
        "print(f'df_groups_sitc_rev2\\n\\n{df_groups_sitc_rev2.head()}\\n')\r\n",
        "print(f'df_products_sitc_rev2\\n\\n{df_products_sitc_rev2.head()}\\n')\r\n"
      ],
      "execution_count": null,
      "outputs": [
        {
          "output_type": "stream",
          "text": [
            "df_colombia_exports\n",
            "\n",
            "   Unnamed: 0  year origin dest  sitc4  export_val  import_val\n",
            "0      761444  1962    col  civ    712         0.0     13000.0\n",
            "1      761445  1962    col  civ   1210     12000.0         0.0\n",
            "2      761446  1962    col  cod   2925         0.0      2000.0\n",
            "3      761447  1962    col  cog   2925         0.0      2000.0\n",
            "4      761448  1962    col  dza   1210    112000.0         0.0\n",
            "\n",
            "df_colombia_imports\n",
            "\n",
            "   Unnamed: 0  year origin dest  sitc4  export_val  import_val\n",
            "0       11564  1962    civ  col    712     13000.0         0.0\n",
            "1       11565  1962    civ  col   1210         0.0     12000.0\n",
            "2       17741  1962    cod  col   2925      2000.0         0.0\n",
            "3       20216  1962    cog  col   2925      2000.0         0.0\n",
            "4       25005  1962    dza  col   1210         0.0    112000.0\n",
            "\n",
            "df_country_names\n",
            "\n",
            "      id id_3char          name\n",
            "0  afago      ago        Angola\n",
            "1  afbdi      bdi       Burundi\n",
            "2  afben      ben         Benin\n",
            "3  afbfa      bfa  Burkina Faso\n",
            "4  afbwa      bwa      Botswana\n",
            "\n",
            "df_groups_sitc_rev2\n",
            "\n",
            "   id                                           category\n",
            "1   0     Live animals other than animals of division 03\n",
            "2   1                         Meat and meat preparations\n",
            "3   2                     Dairy products and birds' eggs\n",
            "4   3  Fish, crustaceans, molluscs and preparations t...\n",
            "5   4                    Cereals and cereal preparations\n",
            "\n",
            "df_products_sitc_rev2\n",
            "\n",
            "       id  sitc                                               name\n",
            "0  105722  5722                                 Initiating Devices\n",
            "1  105838  5838                      Polymerization Ion Exchangers\n",
            "2  106250  6250  Rubber tires, tire cases, inner and flaps, for...\n",
            "3  106251  6251                                          Car Tires\n",
            "4  106280  6280                           Other articles of rubber\n",
            "\n"
          ],
          "name": "stdout"
        }
      ]
    },
    {
      "cell_type": "markdown",
      "metadata": {
        "id": "wEF-u9W7BI_I"
      },
      "source": [
        "##Some insights that I could find in each archive\r\n",
        "After taking a brief review of all the data we can analyze each archive and describe what information bring us\r\n",
        "\r\n",
        "1. **df_colombia_exports**: This is the information for all the exports from Colombia to all the different countries. These are the variables of each column:\r\n",
        "\r\n",
        " * **Unnamed:** This column doesn't have a name and by default, pandas call it 'Unnamed'. At this moment I don't know what represents this column because it doesn't have any relationship with the other archives, so we are going to need to review the resource data and extract additional data.\r\n",
        " * **year:** This column represents the year of the export.\r\n",
        " * **origin:** This column is written with some key that represents the country that exports the products (In this case Colombia), the value of the key is in the *'df_country_names'* archive.\r\n",
        " * **dest:** It is the same as the 'origin' column but this represents the country that imports the products\r\n",
        " * **sitc4:** Standard International Trade Classification (SITC) is a classification of goods used to classify the exports and imports of a country to enable comparing different countries and years. In the *'df_products_sitc_rev2'* archive we could find the value of the key.\r\n",
        " * **export_val:** Total amount of exports for each year\r\n",
        " * **import_val:** Total amount of imports for each year (This column has to be just in the 'df_colombia_export')\r\n",
        "2. **df_colombia_imports:** This is the information for all the imports from all the different countries to Colombia. It has the same columns of *'df_colombia_exports'* archive and we can see that there is duplicated information that we are going to clean in the next chapter.\r\n",
        "\r\n",
        "3. **df_country_names:** In this archive, we can find the key-value for all the countries\r\n",
        "\r\n",
        "4. **df_groups_sitc_rev2:** In this archive, we can find some groups of aggregations of the SITC classification but we do not have any column to merge these values ​​with a dataframe. So we are going to seek further information.\r\n",
        "\r\n",
        "5. **df_products_sitc_rev2:** In this archive, we can find the key-value for all the SITC classification"
      ]
    },
    {
      "cell_type": "markdown",
      "metadata": {
        "id": "qqURADtaR-hc"
      },
      "source": [
        "##Let's seek for further information\r\n",
        "**I could not find the relation between the dataframe 'df_groups_sitc_rev2' and the others dataframes.**\r\n",
        "\r\n",
        "On the web https://wits.worldbank.org/witsapiintro.aspx?lang=en I could found that represent the 'Trade Statistics by Product (HS 6-digit)' but I can not relate with the SICT classification"
      ]
    },
    {
      "cell_type": "markdown",
      "metadata": {
        "tags": [],
        "cell_id": "00001-6bddc297-2c68-416b-850d-7b6d5e1ec85d",
        "deepnote_cell_type": "markdown",
        "id": "W21wVk26IC4k"
      },
      "source": [
        "# Limpieza y transformación de datos (0-20%)\n",
        "\n",
        "Para la limpieza de datos puedes utilizar herramientas como Pandas y numpy con el fin de limpiar y estructurar todo tipo de datos nulos o vacíos que no sean necesarios para el análisis de los datos requeridos."
      ]
    },
    {
      "cell_type": "code",
      "metadata": {
        "id": "8xkxPgZeSt94"
      },
      "source": [
        "def FindDiff(df1,df2):\r\n",
        "  \"\"\"Join two dataframes, removing repeating data and other things\r\n",
        "  \"\"\"\r\n",
        "  df1_str_tuples = df1.astype(str).apply(tuple, 1)\r\n",
        "  df2_str_tuples = df2.astype(str).apply(tuple, 1)\r\n",
        "  df1_values_in_df2_filter = df1_str_tuples.isin(df2_str_tuples)\r\n",
        "  df2_values_in_df1_filter = df2_str_tuples.isin(df1_str_tuples)\r\n",
        "  df1_values_not_in_df2 = df1[~df1_values_in_df2_filter]\r\n",
        "  df1_values_in_df2 = df1[df1_values_in_df2_filter]\r\n",
        "  df2_values_not_in_df1 = df2[~df2_values_in_df1_filter]\r\n",
        "  frames = [df1_values_in_df2 , df1_values_not_in_df2 , df2_values_not_in_df1]\r\n",
        "  result = pd.concat(frames)\r\n",
        "  result=result[['year',\"dest\",\"sitc4\",\"export_val\",\"import_val\"]]\r\n",
        "  return result\r\n",
        "def TransProdId(Text):\r\n",
        "    #Extract Code of ID\r\n",
        "    Salida=int(str(Text)[2:4])\r\n",
        "    return Salida\r\n",
        "def MergeProductsGroups(Products,Groups):\r\n",
        "  Products['GroupCat']=Products['id'].apply(TransProdId)\r\n",
        "  Products_Groups = pd.merge(Products, Groups, left_on='GroupCat', right_on='id',how=\"left\")\r\n",
        "  result = Products_Groups[['category',\"name\",\"sitc\"]]\r\n",
        "  result = result.fillna(value=\"No Category Specific\")\r\n",
        "  return result\r\n",
        "def MergeAllData(result,Products_Groups,Names_Country):\r\n",
        "  result2=pd.merge(result,Products_Groups, left_on='sitc4', right_on='sitc',how=\"left\")\r\n",
        "  result2=result2[[\"year\",'dest',\"export_val\",\"import_val\",\"category\",\"name\"]]\r\n",
        "  result3=pd.merge(result2, Names_Country, left_on='dest', right_on='id_3char',how=\"left\")\r\n",
        "  result3=result3[[\"year\",\"export_val\",\"import_val\",\"category\",\"name_x\",\"name_y\",\"id_3char\"]]\r\n",
        "  result3.columns=[\"Year\",\"Export Value\",\"Import Value\",\"Category\",\"Product\",\"Country\",\"id_3char\"]\r\n",
        "  result3 = result3.fillna(value=\"No Country Specific\")\r\n",
        "  return result3\r\n",
        "def ClearData(result):\r\n",
        "  R2=result[result['Country'] !=\"World\"]\r\n",
        "  R3=R2[R2['Product'] != \"Unclassified Transactions\"]\r\n",
        "  R3=R3[~R3['Country'].isna()]\r\n",
        "  return R3\r\n",
        "def Tables_Pivot(Data,Values,Index):\r\n",
        "  Pivot = pd.pivot_table(Data, values=Values, index=Index, aggfunc=np.sum).sort_values(by=Values, ascending=False)[:10]\r\n",
        "  return Pivot.index,Pivot\r\n",
        "def PlotArea(Data,Values,Index,IndexGraph,Titles,graph=3):\r\n",
        "  a,b =Tables_Pivot(Data,Values,Index)\r\n",
        "  c=Data[Data[Index[0]].isin(a)]\r\n",
        "  if graph > 2 or graph==1:\r\n",
        "    pd.pivot_table(c, values=Values, columns=Index,index=IndexGraph, aggfunc=np.sum).plot.area(figsize=(17,5),title=Titles[0])\r\n",
        "  c=pd.pivot_table(c, values=Values, columns=Index,index=IndexGraph, aggfunc=np.sum)\r\n",
        "  e=c.sum(axis = 1)\r\n",
        "  if graph > 2 or graph==2:\r\n",
        "    c.div(e,axis='index').plot.area(figsize=(17,5),title=Titles[1])\r\n",
        "  \r\n"
      ],
      "execution_count": null,
      "outputs": []
    },
    {
      "cell_type": "code",
      "metadata": {
        "id": "0Hm5qXXznDmK"
      },
      "source": [
        "df=df_groups_sitc_rev22.append({'id' : 1 , 'category' : 'asdads'} , ignore_index=True)"
      ],
      "execution_count": null,
      "outputs": []
    },
    {
      "cell_type": "code",
      "metadata": {
        "id": "NfAKu0gDSwJW",
        "colab": {
          "base_uri": "https://localhost:8080/",
          "height": 402
        },
        "outputId": "0291e98e-0e85-49c5-ea7d-abbffba2f74f"
      },
      "source": [
        "result = FindDiff(df_colombia_exports, df_colombia_imports)\r\n",
        "result"
      ],
      "execution_count": null,
      "outputs": [
        {
          "output_type": "execute_result",
          "data": {
            "text/html": [
              "<div>\n",
              "<style scoped>\n",
              "    .dataframe tbody tr th:only-of-type {\n",
              "        vertical-align: middle;\n",
              "    }\n",
              "\n",
              "    .dataframe tbody tr th {\n",
              "        vertical-align: top;\n",
              "    }\n",
              "\n",
              "    .dataframe thead th {\n",
              "        text-align: right;\n",
              "    }\n",
              "</style>\n",
              "<table border=\"1\" class=\"dataframe\">\n",
              "  <thead>\n",
              "    <tr style=\"text-align: right;\">\n",
              "      <th></th>\n",
              "      <th>year</th>\n",
              "      <th>dest</th>\n",
              "      <th>sitc4</th>\n",
              "      <th>export_val</th>\n",
              "      <th>import_val</th>\n",
              "    </tr>\n",
              "  </thead>\n",
              "  <tbody>\n",
              "    <tr>\n",
              "      <th>110188</th>\n",
              "      <td>1979</td>\n",
              "      <td>col</td>\n",
              "      <td>9310</td>\n",
              "      <td>1382000.0</td>\n",
              "      <td>1382000.0</td>\n",
              "    </tr>\n",
              "    <tr>\n",
              "      <th>118939</th>\n",
              "      <td>1980</td>\n",
              "      <td>col</td>\n",
              "      <td>7821</td>\n",
              "      <td>20000.0</td>\n",
              "      <td>20000.0</td>\n",
              "    </tr>\n",
              "    <tr>\n",
              "      <th>118940</th>\n",
              "      <td>1980</td>\n",
              "      <td>col</td>\n",
              "      <td>9310</td>\n",
              "      <td>350000.0</td>\n",
              "      <td>350000.0</td>\n",
              "    </tr>\n",
              "    <tr>\n",
              "      <th>439383</th>\n",
              "      <td>2003</td>\n",
              "      <td>col</td>\n",
              "      <td>6251</td>\n",
              "      <td>654300.0</td>\n",
              "      <td>654300.0</td>\n",
              "    </tr>\n",
              "    <tr>\n",
              "      <th>439384</th>\n",
              "      <td>2003</td>\n",
              "      <td>col</td>\n",
              "      <td>6289</td>\n",
              "      <td>8970.0</td>\n",
              "      <td>8970.0</td>\n",
              "    </tr>\n",
              "    <tr>\n",
              "      <th>...</th>\n",
              "      <td>...</td>\n",
              "      <td>...</td>\n",
              "      <td>...</td>\n",
              "      <td>...</td>\n",
              "      <td>...</td>\n",
              "    </tr>\n",
              "    <tr>\n",
              "      <th>775897</th>\n",
              "      <td>2017</td>\n",
              "      <td>col</td>\n",
              "      <td>6658</td>\n",
              "      <td>8658.0</td>\n",
              "      <td>NaN</td>\n",
              "    </tr>\n",
              "    <tr>\n",
              "      <th>775898</th>\n",
              "      <td>2017</td>\n",
              "      <td>col</td>\n",
              "      <td>8924</td>\n",
              "      <td>NaN</td>\n",
              "      <td>4285.5</td>\n",
              "    </tr>\n",
              "    <tr>\n",
              "      <th>775899</th>\n",
              "      <td>2017</td>\n",
              "      <td>col</td>\n",
              "      <td>8928</td>\n",
              "      <td>3816.5</td>\n",
              "      <td>25667.5</td>\n",
              "    </tr>\n",
              "    <tr>\n",
              "      <th>775900</th>\n",
              "      <td>2017</td>\n",
              "      <td>col</td>\n",
              "      <td>8972</td>\n",
              "      <td>500.0</td>\n",
              "      <td>5306.0</td>\n",
              "    </tr>\n",
              "    <tr>\n",
              "      <th>775901</th>\n",
              "      <td>2017</td>\n",
              "      <td>col</td>\n",
              "      <td>9310</td>\n",
              "      <td>5500539.5</td>\n",
              "      <td>10063053.0</td>\n",
              "    </tr>\n",
              "  </tbody>\n",
              "</table>\n",
              "<p>1573618 rows × 5 columns</p>\n",
              "</div>"
            ],
            "text/plain": [
              "        year dest  sitc4  export_val  import_val\n",
              "110188  1979  col   9310   1382000.0   1382000.0\n",
              "118939  1980  col   7821     20000.0     20000.0\n",
              "118940  1980  col   9310    350000.0    350000.0\n",
              "439383  2003  col   6251    654300.0    654300.0\n",
              "439384  2003  col   6289      8970.0      8970.0\n",
              "...      ...  ...    ...         ...         ...\n",
              "775897  2017  col   6658      8658.0         NaN\n",
              "775898  2017  col   8924         NaN      4285.5\n",
              "775899  2017  col   8928      3816.5     25667.5\n",
              "775900  2017  col   8972       500.0      5306.0\n",
              "775901  2017  col   9310   5500539.5  10063053.0\n",
              "\n",
              "[1573618 rows x 5 columns]"
            ]
          },
          "metadata": {
            "tags": []
          },
          "execution_count": 9
        }
      ]
    },
    {
      "cell_type": "code",
      "metadata": {
        "colab": {
          "base_uri": "https://localhost:8080/",
          "height": 402
        },
        "id": "_OHzzq4lUebL",
        "outputId": "b3609858-082d-4f0c-b870-e8b39ce78a5f"
      },
      "source": [
        "groups = MergeProductsGroups(df_products_sitc_rev2, df_groups_sitc_rev2)\r\n",
        "groups"
      ],
      "execution_count": null,
      "outputs": [
        {
          "output_type": "execute_result",
          "data": {
            "text/html": [
              "<div>\n",
              "<style scoped>\n",
              "    .dataframe tbody tr th:only-of-type {\n",
              "        vertical-align: middle;\n",
              "    }\n",
              "\n",
              "    .dataframe tbody tr th {\n",
              "        vertical-align: top;\n",
              "    }\n",
              "\n",
              "    .dataframe thead th {\n",
              "        text-align: right;\n",
              "    }\n",
              "</style>\n",
              "<table border=\"1\" class=\"dataframe\">\n",
              "  <thead>\n",
              "    <tr style=\"text-align: right;\">\n",
              "      <th></th>\n",
              "      <th>category</th>\n",
              "      <th>name</th>\n",
              "      <th>sitc</th>\n",
              "    </tr>\n",
              "  </thead>\n",
              "  <tbody>\n",
              "    <tr>\n",
              "      <th>0</th>\n",
              "      <td>Plastics in primary forms</td>\n",
              "      <td>Initiating Devices</td>\n",
              "      <td>5722</td>\n",
              "    </tr>\n",
              "    <tr>\n",
              "      <th>1</th>\n",
              "      <td>Plastics in non-primary forms</td>\n",
              "      <td>Polymerization Ion Exchangers</td>\n",
              "      <td>5838</td>\n",
              "    </tr>\n",
              "    <tr>\n",
              "      <th>2</th>\n",
              "      <td>Rubber manufactures, n.e.s.</td>\n",
              "      <td>Rubber tires, tire cases, inner and flaps, for...</td>\n",
              "      <td>6250</td>\n",
              "    </tr>\n",
              "    <tr>\n",
              "      <th>3</th>\n",
              "      <td>Rubber manufactures, n.e.s.</td>\n",
              "      <td>Car Tires</td>\n",
              "      <td>6251</td>\n",
              "    </tr>\n",
              "    <tr>\n",
              "      <th>4</th>\n",
              "      <td>Rubber manufactures, n.e.s.</td>\n",
              "      <td>Other articles of rubber</td>\n",
              "      <td>6280</td>\n",
              "    </tr>\n",
              "    <tr>\n",
              "      <th>...</th>\n",
              "      <td>...</td>\n",
              "      <td>...</td>\n",
              "      <td>...</td>\n",
              "    </tr>\n",
              "    <tr>\n",
              "      <th>983</th>\n",
              "      <td>No Category Specific</td>\n",
              "      <td>Unclassified Transactions</td>\n",
              "      <td>9310</td>\n",
              "    </tr>\n",
              "    <tr>\n",
              "      <th>984</th>\n",
              "      <td>No Category Specific</td>\n",
              "      <td>Miscellaneous Live Animals</td>\n",
              "      <td>9410</td>\n",
              "    </tr>\n",
              "    <tr>\n",
              "      <th>985</th>\n",
              "      <td>Coin (other than gold coin), not being legal t...</td>\n",
              "      <td>Non-Gold Coin</td>\n",
              "      <td>9610</td>\n",
              "    </tr>\n",
              "    <tr>\n",
              "      <th>986</th>\n",
              "      <td>Live animals other than animals of division 03</td>\n",
              "      <td>Live animals chiefly for food</td>\n",
              "      <td>10</td>\n",
              "    </tr>\n",
              "    <tr>\n",
              "      <th>987</th>\n",
              "      <td>Meat and meat preparations</td>\n",
              "      <td>Meat</td>\n",
              "      <td>110</td>\n",
              "    </tr>\n",
              "  </tbody>\n",
              "</table>\n",
              "<p>988 rows × 3 columns</p>\n",
              "</div>"
            ],
            "text/plain": [
              "                                              category  ...  sitc\n",
              "0                            Plastics in primary forms  ...  5722\n",
              "1                        Plastics in non-primary forms  ...  5838\n",
              "2                          Rubber manufactures, n.e.s.  ...  6250\n",
              "3                          Rubber manufactures, n.e.s.  ...  6251\n",
              "4                          Rubber manufactures, n.e.s.  ...  6280\n",
              "..                                                 ...  ...   ...\n",
              "983                               No Category Specific  ...  9310\n",
              "984                               No Category Specific  ...  9410\n",
              "985  Coin (other than gold coin), not being legal t...  ...  9610\n",
              "986     Live animals other than animals of division 03  ...    10\n",
              "987                         Meat and meat preparations  ...   110\n",
              "\n",
              "[988 rows x 3 columns]"
            ]
          },
          "metadata": {
            "tags": []
          },
          "execution_count": 7
        }
      ]
    },
    {
      "cell_type": "code",
      "metadata": {
        "id": "3GZ8_9hPWHwX",
        "colab": {
          "base_uri": "https://localhost:8080/",
          "height": 402
        },
        "outputId": "5e0fd67d-9d29-40fa-b85f-06b471afa6e1"
      },
      "source": [
        "all_data = MergeAllData(result, groups, df_country_names)\r\n",
        "all_data"
      ],
      "execution_count": null,
      "outputs": [
        {
          "output_type": "execute_result",
          "data": {
            "text/html": [
              "<div>\n",
              "<style scoped>\n",
              "    .dataframe tbody tr th:only-of-type {\n",
              "        vertical-align: middle;\n",
              "    }\n",
              "\n",
              "    .dataframe tbody tr th {\n",
              "        vertical-align: top;\n",
              "    }\n",
              "\n",
              "    .dataframe thead th {\n",
              "        text-align: right;\n",
              "    }\n",
              "</style>\n",
              "<table border=\"1\" class=\"dataframe\">\n",
              "  <thead>\n",
              "    <tr style=\"text-align: right;\">\n",
              "      <th></th>\n",
              "      <th>Year</th>\n",
              "      <th>Export Value</th>\n",
              "      <th>Import Value</th>\n",
              "      <th>Category</th>\n",
              "      <th>Product</th>\n",
              "      <th>Country</th>\n",
              "      <th>id_3char</th>\n",
              "    </tr>\n",
              "  </thead>\n",
              "  <tbody>\n",
              "    <tr>\n",
              "      <th>0</th>\n",
              "      <td>1979</td>\n",
              "      <td>1.382e+06</td>\n",
              "      <td>1.382e+06</td>\n",
              "      <td>No Category Specific</td>\n",
              "      <td>Unclassified Transactions</td>\n",
              "      <td>Colombia</td>\n",
              "      <td>col</td>\n",
              "    </tr>\n",
              "    <tr>\n",
              "      <th>1</th>\n",
              "      <td>1980</td>\n",
              "      <td>20000</td>\n",
              "      <td>20000</td>\n",
              "      <td>Road vehicles</td>\n",
              "      <td>Trucks and Vans</td>\n",
              "      <td>Colombia</td>\n",
              "      <td>col</td>\n",
              "    </tr>\n",
              "    <tr>\n",
              "      <th>2</th>\n",
              "      <td>1980</td>\n",
              "      <td>350000</td>\n",
              "      <td>350000</td>\n",
              "      <td>No Category Specific</td>\n",
              "      <td>Unclassified Transactions</td>\n",
              "      <td>Colombia</td>\n",
              "      <td>col</td>\n",
              "    </tr>\n",
              "    <tr>\n",
              "      <th>3</th>\n",
              "      <td>2003</td>\n",
              "      <td>654300</td>\n",
              "      <td>654300</td>\n",
              "      <td>Rubber manufactures, n.e.s.</td>\n",
              "      <td>Car Tires</td>\n",
              "      <td>Colombia</td>\n",
              "      <td>col</td>\n",
              "    </tr>\n",
              "    <tr>\n",
              "      <th>4</th>\n",
              "      <td>2003</td>\n",
              "      <td>8970</td>\n",
              "      <td>8970</td>\n",
              "      <td>Rubber manufactures, n.e.s.</td>\n",
              "      <td>Miscellaneous Rubber</td>\n",
              "      <td>Colombia</td>\n",
              "      <td>col</td>\n",
              "    </tr>\n",
              "    <tr>\n",
              "      <th>...</th>\n",
              "      <td>...</td>\n",
              "      <td>...</td>\n",
              "      <td>...</td>\n",
              "      <td>...</td>\n",
              "      <td>...</td>\n",
              "      <td>...</td>\n",
              "      <td>...</td>\n",
              "    </tr>\n",
              "    <tr>\n",
              "      <th>1573613</th>\n",
              "      <td>2017</td>\n",
              "      <td>8658</td>\n",
              "      <td>No Country Specific</td>\n",
              "      <td>Non metallic mineral manufactures, n.e.s.</td>\n",
              "      <td>Miscellaneous Articles of Glass</td>\n",
              "      <td>Colombia</td>\n",
              "      <td>col</td>\n",
              "    </tr>\n",
              "    <tr>\n",
              "      <th>1573614</th>\n",
              "      <td>2017</td>\n",
              "      <td>No Country Specific</td>\n",
              "      <td>4285.5</td>\n",
              "      <td>Miscellaneous manufactured articles, n.e.s.</td>\n",
              "      <td>Cards and Decals</td>\n",
              "      <td>Colombia</td>\n",
              "      <td>col</td>\n",
              "    </tr>\n",
              "    <tr>\n",
              "      <th>1573615</th>\n",
              "      <td>2017</td>\n",
              "      <td>3816.5</td>\n",
              "      <td>25667.5</td>\n",
              "      <td>Miscellaneous manufactured articles, n.e.s.</td>\n",
              "      <td>Miscellaneous Printed Matter</td>\n",
              "      <td>Colombia</td>\n",
              "      <td>col</td>\n",
              "    </tr>\n",
              "    <tr>\n",
              "      <th>1573616</th>\n",
              "      <td>2017</td>\n",
              "      <td>500</td>\n",
              "      <td>5306</td>\n",
              "      <td>Miscellaneous manufactured articles, n.e.s.</td>\n",
              "      <td>Imitation Jewellery</td>\n",
              "      <td>Colombia</td>\n",
              "      <td>col</td>\n",
              "    </tr>\n",
              "    <tr>\n",
              "      <th>1573617</th>\n",
              "      <td>2017</td>\n",
              "      <td>5.50054e+06</td>\n",
              "      <td>1.00631e+07</td>\n",
              "      <td>No Category Specific</td>\n",
              "      <td>Unclassified Transactions</td>\n",
              "      <td>Colombia</td>\n",
              "      <td>col</td>\n",
              "    </tr>\n",
              "  </tbody>\n",
              "</table>\n",
              "<p>1573618 rows × 7 columns</p>\n",
              "</div>"
            ],
            "text/plain": [
              "         Year         Export Value  ...   Country id_3char\n",
              "0        1979            1.382e+06  ...  Colombia      col\n",
              "1        1980                20000  ...  Colombia      col\n",
              "2        1980               350000  ...  Colombia      col\n",
              "3        2003               654300  ...  Colombia      col\n",
              "4        2003                 8970  ...  Colombia      col\n",
              "...       ...                  ...  ...       ...      ...\n",
              "1573613  2017                 8658  ...  Colombia      col\n",
              "1573614  2017  No Country Specific  ...  Colombia      col\n",
              "1573615  2017               3816.5  ...  Colombia      col\n",
              "1573616  2017                  500  ...  Colombia      col\n",
              "1573617  2017          5.50054e+06  ...  Colombia      col\n",
              "\n",
              "[1573618 rows x 7 columns]"
            ]
          },
          "metadata": {
            "tags": []
          },
          "execution_count": 8
        }
      ]
    },
    {
      "cell_type": "markdown",
      "metadata": {
        "id": "O28cQ4iUXbeP"
      },
      "source": [
        "## Dataframe with just the export information"
      ]
    },
    {
      "cell_type": "code",
      "metadata": {
        "id": "eeVQ5_J8PUFb"
      },
      "source": [
        "#Let's drop all the rows whith import information\r\n",
        "df_colombia_exports.drop(df_colombia_exports[df_colombia_exports['import_val'] > 0].index, inplace = True) \r\n",
        "\r\n",
        "#Let's drop the column with import information and the first column that doesn't relate with  any information in the dataframes\r\n",
        "df_colombia_exports= df_colombia_exports.drop(columns=['Unnamed: 0','import_val'])"
      ],
      "execution_count": null,
      "outputs": []
    },
    {
      "cell_type": "code",
      "metadata": {
        "colab": {
          "base_uri": "https://localhost:8080/"
        },
        "id": "FxXcrOtJP9wc",
        "outputId": "e740787e-5111-47a4-c611-5614235a759f"
      },
      "source": [
        "# There are no Null values\r\n",
        "df_colombia_exports.info()"
      ],
      "execution_count": null,
      "outputs": [
        {
          "output_type": "stream",
          "text": [
            "<class 'pandas.core.frame.DataFrame'>\n",
            "Int64Index: 214718 entries, 1 to 799402\n",
            "Data columns (total 5 columns):\n",
            " #   Column      Non-Null Count   Dtype  \n",
            "---  ------      --------------   -----  \n",
            " 0   year        214718 non-null  int64  \n",
            " 1   origin      214718 non-null  object \n",
            " 2   dest        214718 non-null  object \n",
            " 3   sitc4       214718 non-null  int64  \n",
            " 4   export_val  214718 non-null  float64\n",
            "dtypes: float64(1), int64(2), object(2)\n",
            "memory usage: 9.8+ MB\n"
          ],
          "name": "stdout"
        }
      ]
    },
    {
      "cell_type": "code",
      "metadata": {
        "id": "f15DrUGrZO0M"
      },
      "source": [
        "df_country_names = df_country_names.drop(columns=['id'])\r\n",
        "df_country_names = df_country_names.rename(columns={'id_3char':'origin'})\r\n",
        "\r\n",
        "df_colombia_exports = df_colombia_exports.merge(df_country_names, on=['origin'] ,how=\"left\")\r\n",
        "df_colombia_exports = df_colombia_exports.rename(columns={'name':'country_origin'})"
      ],
      "execution_count": null,
      "outputs": []
    },
    {
      "cell_type": "code",
      "metadata": {
        "id": "oYHamtdjHJup"
      },
      "source": [
        "df_country_names['dest'] = df_country_names['origin']\r\n",
        "\r\n",
        "df_colombia_exports = df_colombia_exports.merge(df_country_names, on=['dest'] ,how=\"left\")\r\n",
        "df_colombia_exports = df_colombia_exports.rename(columns={'name':'country_dest'})"
      ],
      "execution_count": null,
      "outputs": []
    },
    {
      "cell_type": "code",
      "metadata": {
        "id": "JISt7BmWF0cV"
      },
      "source": [
        "df_colombia_exports = df_colombia_exports.drop(columns=['origin_x', 'dest', 'origin_y'])"
      ],
      "execution_count": null,
      "outputs": []
    },
    {
      "cell_type": "code",
      "metadata": {
        "colab": {
          "base_uri": "https://localhost:8080/",
          "height": 402
        },
        "id": "2dOlyomwItUf",
        "outputId": "6133f48f-0546-44c7-b58b-c73724c3c666"
      },
      "source": [
        "df_products_sitc_rev2 = df_products_sitc_rev2.rename(columns={'sitc':'sitc4'})\r\n",
        "df_products_sitc_rev2 = df_products_sitc_rev2.drop(columns=['id'])\r\n",
        "\r\n",
        "df_colombia_exports = df_colombia_exports.merge(df_products_sitc_rev2, on=['sitc4'] ,how=\"left\")\r\n",
        "df_colombia_exports = df_colombia_exports.drop(columns=['sitc4'])\r\n",
        "\r\n",
        "df_colombia_exports"
      ],
      "execution_count": null,
      "outputs": [
        {
          "output_type": "execute_result",
          "data": {
            "text/html": [
              "<div>\n",
              "<style scoped>\n",
              "    .dataframe tbody tr th:only-of-type {\n",
              "        vertical-align: middle;\n",
              "    }\n",
              "\n",
              "    .dataframe tbody tr th {\n",
              "        vertical-align: top;\n",
              "    }\n",
              "\n",
              "    .dataframe thead th {\n",
              "        text-align: right;\n",
              "    }\n",
              "</style>\n",
              "<table border=\"1\" class=\"dataframe\">\n",
              "  <thead>\n",
              "    <tr style=\"text-align: right;\">\n",
              "      <th></th>\n",
              "      <th>year</th>\n",
              "      <th>export_val</th>\n",
              "      <th>country_origin</th>\n",
              "      <th>country_dest</th>\n",
              "      <th>name</th>\n",
              "    </tr>\n",
              "  </thead>\n",
              "  <tbody>\n",
              "    <tr>\n",
              "      <th>0</th>\n",
              "      <td>1962</td>\n",
              "      <td>12000.0</td>\n",
              "      <td>Colombia</td>\n",
              "      <td>Cote d'Ivoire</td>\n",
              "      <td>Tobacco unmanufactured; tobacco refuse</td>\n",
              "    </tr>\n",
              "    <tr>\n",
              "      <th>1</th>\n",
              "      <td>1962</td>\n",
              "      <td>112000.0</td>\n",
              "      <td>Colombia</td>\n",
              "      <td>Algeria</td>\n",
              "      <td>Tobacco unmanufactured; tobacco refuse</td>\n",
              "    </tr>\n",
              "    <tr>\n",
              "      <th>2</th>\n",
              "      <td>1962</td>\n",
              "      <td>6000.0</td>\n",
              "      <td>Colombia</td>\n",
              "      <td>Egypt</td>\n",
              "      <td>Non-Coniferous Sawlogs</td>\n",
              "    </tr>\n",
              "    <tr>\n",
              "      <th>3</th>\n",
              "      <td>1962</td>\n",
              "      <td>164000.0</td>\n",
              "      <td>Colombia</td>\n",
              "      <td>Morocco</td>\n",
              "      <td>Tobacco unmanufactured; tobacco refuse</td>\n",
              "    </tr>\n",
              "    <tr>\n",
              "      <th>4</th>\n",
              "      <td>1962</td>\n",
              "      <td>5000.0</td>\n",
              "      <td>Colombia</td>\n",
              "      <td>Morocco</td>\n",
              "      <td>Coffee</td>\n",
              "    </tr>\n",
              "    <tr>\n",
              "      <th>...</th>\n",
              "      <td>...</td>\n",
              "      <td>...</td>\n",
              "      <td>...</td>\n",
              "      <td>...</td>\n",
              "      <td>...</td>\n",
              "    </tr>\n",
              "    <tr>\n",
              "      <th>214713</th>\n",
              "      <td>2017</td>\n",
              "      <td>179559.5</td>\n",
              "      <td>Colombia</td>\n",
              "      <td>Uruguay</td>\n",
              "      <td>Coffee</td>\n",
              "    </tr>\n",
              "    <tr>\n",
              "      <th>214714</th>\n",
              "      <td>2017</td>\n",
              "      <td>84909.0</td>\n",
              "      <td>Colombia</td>\n",
              "      <td>Uruguay</td>\n",
              "      <td>Uncarded Discontinuous Synthetic Fibers</td>\n",
              "    </tr>\n",
              "    <tr>\n",
              "      <th>214715</th>\n",
              "      <td>2017</td>\n",
              "      <td>486.0</td>\n",
              "      <td>Colombia</td>\n",
              "      <td>Uruguay</td>\n",
              "      <td>Notebooks</td>\n",
              "    </tr>\n",
              "    <tr>\n",
              "      <th>214716</th>\n",
              "      <td>2017</td>\n",
              "      <td>26526.5</td>\n",
              "      <td>Colombia</td>\n",
              "      <td>Uruguay</td>\n",
              "      <td>Mineral Wool</td>\n",
              "    </tr>\n",
              "    <tr>\n",
              "      <th>214717</th>\n",
              "      <td>2017</td>\n",
              "      <td>4285.5</td>\n",
              "      <td>Colombia</td>\n",
              "      <td>Uruguay</td>\n",
              "      <td>Cards and Decals</td>\n",
              "    </tr>\n",
              "  </tbody>\n",
              "</table>\n",
              "<p>214718 rows × 5 columns</p>\n",
              "</div>"
            ],
            "text/plain": [
              "        year  ...                                     name\n",
              "0       1962  ...   Tobacco unmanufactured; tobacco refuse\n",
              "1       1962  ...   Tobacco unmanufactured; tobacco refuse\n",
              "2       1962  ...                   Non-Coniferous Sawlogs\n",
              "3       1962  ...   Tobacco unmanufactured; tobacco refuse\n",
              "4       1962  ...                                   Coffee\n",
              "...      ...  ...                                      ...\n",
              "214713  2017  ...                                   Coffee\n",
              "214714  2017  ...  Uncarded Discontinuous Synthetic Fibers\n",
              "214715  2017  ...                                Notebooks\n",
              "214716  2017  ...                             Mineral Wool\n",
              "214717  2017  ...                         Cards and Decals\n",
              "\n",
              "[214718 rows x 5 columns]"
            ]
          },
          "metadata": {
            "tags": []
          },
          "execution_count": 13
        }
      ]
    },
    {
      "cell_type": "markdown",
      "metadata": {
        "id": "39Zwey3PjR5N"
      },
      "source": [
        "## Dataframe with just the import information\r\n"
      ]
    },
    {
      "cell_type": "code",
      "metadata": {
        "id": "l-lMS25hjezA"
      },
      "source": [
        "#Let's drop all the rows whith import information\r\n",
        "df_colombia_imports.drop(df_colombia_imports[df_colombia_imports['export_val'] > 0].index, inplace = True) \r\n",
        "\r\n",
        "#Let's drop the column with import information and the first column that doesn't relate with  any information in the dataframes\r\n",
        "df_colombia_imports= df_colombia_imports.drop(columns=['Unnamed: 0','export_val'])"
      ],
      "execution_count": null,
      "outputs": []
    },
    {
      "cell_type": "code",
      "metadata": {
        "colab": {
          "base_uri": "https://localhost:8080/"
        },
        "id": "fdk7EcnZjwqQ",
        "outputId": "175ca03e-5ca0-441a-c84a-477ab03e7111"
      },
      "source": [
        "# There are no Null values\r\n",
        "df_colombia_imports.info()"
      ],
      "execution_count": null,
      "outputs": [
        {
          "output_type": "stream",
          "text": [
            "<class 'pandas.core.frame.DataFrame'>\n",
            "Int64Index: 215410 entries, 1 to 775898\n",
            "Data columns (total 5 columns):\n",
            " #   Column      Non-Null Count   Dtype  \n",
            "---  ------      --------------   -----  \n",
            " 0   year        215410 non-null  int64  \n",
            " 1   origin      215410 non-null  object \n",
            " 2   dest        215410 non-null  object \n",
            " 3   sitc4       215410 non-null  int64  \n",
            " 4   import_val  215410 non-null  float64\n",
            "dtypes: float64(1), int64(2), object(2)\n",
            "memory usage: 9.9+ MB\n"
          ],
          "name": "stdout"
        }
      ]
    },
    {
      "cell_type": "code",
      "metadata": {
        "tags": [],
        "cell_id": "00001-cab90e0e-49fe-4383-930d-c97687b1e3f9",
        "deepnote_cell_type": "code",
        "id": "v-bWpttyIC4k"
      },
      "source": [
        "df_country_names = df_country_names.drop(columns=['dest'])\r\n",
        "\r\n",
        "df_colombia_imports = df_colombia_imports.merge(df_country_names, on=['origin'] ,how=\"left\")\r\n",
        "df_colombia_imports = df_colombia_imports.rename(columns={'name':'country_origin'})"
      ],
      "execution_count": null,
      "outputs": []
    },
    {
      "cell_type": "code",
      "metadata": {
        "id": "dyoykXMULuoq"
      },
      "source": [
        "df_country_names['dest'] = df_country_names['origin']\r\n",
        "\r\n",
        "df_colombia_imports = df_colombia_imports.merge(df_country_names, on=['dest'] ,how=\"left\")\r\n",
        "df_colombia_imports = df_colombia_imports.rename(columns={'name':'country_dest'})"
      ],
      "execution_count": null,
      "outputs": []
    },
    {
      "cell_type": "code",
      "metadata": {
        "id": "UYwS_pz0Nrp8"
      },
      "source": [
        "df_colombia_imports = df_colombia_imports.drop(columns=['origin_x', 'dest', 'origin_y'])"
      ],
      "execution_count": null,
      "outputs": []
    },
    {
      "cell_type": "code",
      "metadata": {
        "colab": {
          "base_uri": "https://localhost:8080/",
          "height": 402
        },
        "id": "BeX66wnhN-ty",
        "outputId": "e22a461b-27cb-4d32-8010-b55559e34484"
      },
      "source": [
        "df_colombia_imports = df_colombia_imports.merge(df_products_sitc_rev2, on=['sitc4'] ,how=\"left\")\r\n",
        "df_colombia_imports = df_colombia_imports.drop(columns=['sitc4'])\r\n",
        "\r\n",
        "df_colombia_imports"
      ],
      "execution_count": null,
      "outputs": [
        {
          "output_type": "execute_result",
          "data": {
            "text/html": [
              "<div>\n",
              "<style scoped>\n",
              "    .dataframe tbody tr th:only-of-type {\n",
              "        vertical-align: middle;\n",
              "    }\n",
              "\n",
              "    .dataframe tbody tr th {\n",
              "        vertical-align: top;\n",
              "    }\n",
              "\n",
              "    .dataframe thead th {\n",
              "        text-align: right;\n",
              "    }\n",
              "</style>\n",
              "<table border=\"1\" class=\"dataframe\">\n",
              "  <thead>\n",
              "    <tr style=\"text-align: right;\">\n",
              "      <th></th>\n",
              "      <th>year</th>\n",
              "      <th>import_val</th>\n",
              "      <th>country_origin</th>\n",
              "      <th>country_dest</th>\n",
              "      <th>name</th>\n",
              "    </tr>\n",
              "  </thead>\n",
              "  <tbody>\n",
              "    <tr>\n",
              "      <th>0</th>\n",
              "      <td>1962</td>\n",
              "      <td>12000.0</td>\n",
              "      <td>Cote d'Ivoire</td>\n",
              "      <td>Colombia</td>\n",
              "      <td>Tobacco unmanufactured; tobacco refuse</td>\n",
              "    </tr>\n",
              "    <tr>\n",
              "      <th>1</th>\n",
              "      <td>1962</td>\n",
              "      <td>112000.0</td>\n",
              "      <td>Algeria</td>\n",
              "      <td>Colombia</td>\n",
              "      <td>Tobacco unmanufactured; tobacco refuse</td>\n",
              "    </tr>\n",
              "    <tr>\n",
              "      <th>2</th>\n",
              "      <td>1962</td>\n",
              "      <td>6000.0</td>\n",
              "      <td>Egypt</td>\n",
              "      <td>Colombia</td>\n",
              "      <td>Non-Coniferous Sawlogs</td>\n",
              "    </tr>\n",
              "    <tr>\n",
              "      <th>3</th>\n",
              "      <td>1962</td>\n",
              "      <td>164000.0</td>\n",
              "      <td>Morocco</td>\n",
              "      <td>Colombia</td>\n",
              "      <td>Tobacco unmanufactured; tobacco refuse</td>\n",
              "    </tr>\n",
              "    <tr>\n",
              "      <th>4</th>\n",
              "      <td>1962</td>\n",
              "      <td>5000.0</td>\n",
              "      <td>Morocco</td>\n",
              "      <td>Colombia</td>\n",
              "      <td>Coffee</td>\n",
              "    </tr>\n",
              "    <tr>\n",
              "      <th>...</th>\n",
              "      <td>...</td>\n",
              "      <td>...</td>\n",
              "      <td>...</td>\n",
              "      <td>...</td>\n",
              "      <td>...</td>\n",
              "    </tr>\n",
              "    <tr>\n",
              "      <th>215405</th>\n",
              "      <td>2017</td>\n",
              "      <td>179559.5</td>\n",
              "      <td>Uruguay</td>\n",
              "      <td>Colombia</td>\n",
              "      <td>Coffee</td>\n",
              "    </tr>\n",
              "    <tr>\n",
              "      <th>215406</th>\n",
              "      <td>2017</td>\n",
              "      <td>84909.0</td>\n",
              "      <td>Uruguay</td>\n",
              "      <td>Colombia</td>\n",
              "      <td>Uncarded Discontinuous Synthetic Fibers</td>\n",
              "    </tr>\n",
              "    <tr>\n",
              "      <th>215407</th>\n",
              "      <td>2017</td>\n",
              "      <td>486.0</td>\n",
              "      <td>Uruguay</td>\n",
              "      <td>Colombia</td>\n",
              "      <td>Notebooks</td>\n",
              "    </tr>\n",
              "    <tr>\n",
              "      <th>215408</th>\n",
              "      <td>2017</td>\n",
              "      <td>26526.5</td>\n",
              "      <td>Uruguay</td>\n",
              "      <td>Colombia</td>\n",
              "      <td>Mineral Wool</td>\n",
              "    </tr>\n",
              "    <tr>\n",
              "      <th>215409</th>\n",
              "      <td>2017</td>\n",
              "      <td>4285.5</td>\n",
              "      <td>Uruguay</td>\n",
              "      <td>Colombia</td>\n",
              "      <td>Cards and Decals</td>\n",
              "    </tr>\n",
              "  </tbody>\n",
              "</table>\n",
              "<p>215410 rows × 5 columns</p>\n",
              "</div>"
            ],
            "text/plain": [
              "        year  import_val  ... country_dest                                     name\n",
              "0       1962     12000.0  ...     Colombia   Tobacco unmanufactured; tobacco refuse\n",
              "1       1962    112000.0  ...     Colombia   Tobacco unmanufactured; tobacco refuse\n",
              "2       1962      6000.0  ...     Colombia                   Non-Coniferous Sawlogs\n",
              "3       1962    164000.0  ...     Colombia   Tobacco unmanufactured; tobacco refuse\n",
              "4       1962      5000.0  ...     Colombia                                   Coffee\n",
              "...      ...         ...  ...          ...                                      ...\n",
              "215405  2017    179559.5  ...     Colombia                                   Coffee\n",
              "215406  2017     84909.0  ...     Colombia  Uncarded Discontinuous Synthetic Fibers\n",
              "215407  2017       486.0  ...     Colombia                                Notebooks\n",
              "215408  2017     26526.5  ...     Colombia                             Mineral Wool\n",
              "215409  2017      4285.5  ...     Colombia                         Cards and Decals\n",
              "\n",
              "[215410 rows x 5 columns]"
            ]
          },
          "metadata": {
            "tags": []
          },
          "execution_count": 19
        }
      ]
    },
    {
      "cell_type": "markdown",
      "metadata": {
        "tags": [],
        "cell_id": "00001-f5242aa0-0f57-45af-8f70-67ae1dd4e80f",
        "deepnote_cell_type": "markdown",
        "id": "9NVYEXylIC4l"
      },
      "source": [
        "# Análisis exploratorio (*analytics, data visualization y storytelling* (0-60%)\n",
        "\n",
        "El análisis exploratorio es parte fundamental para responder las preguntas propuestas por el equipo de data scientists de Platzi. \n",
        "\n",
        "* Mantén un código, visualizaciones y storytelling ordenados. \n",
        "* Muestra gráficas inline haciendo uso de herramientas como Matplotlib, Seaborn y otras. \n",
        "* En el storytelling la narrativa y la visualización deben tener sentido, procura que las gráficas sean visibles, aporten valor a responder las preguntas y sean lo más descriptivas posibles. \n",
        "* Además agrega textos que faciliten la narrativa del storytelling."
      ]
    },
    {
      "cell_type": "markdown",
      "metadata": {
        "id": "kuqFFmKeWLl7"
      },
      "source": [
        "##Questiion 1: What is the top 10 countries to which Colombia exports its products and their evolution over time?"
      ]
    },
    {
      "cell_type": "code",
      "metadata": {
        "id": "qSYcA9RuPY5F"
      },
      "source": [
        "df_colombia_exports.astype({'export_val':'int32'})"
      ],
      "execution_count": null,
      "outputs": []
    },
    {
      "cell_type": "code",
      "metadata": {
        "id": "rhNgS9CnPNvg"
      },
      "source": [
        "top_10_exports = df_colombia_exports.groupby(['country_dest']).agg({'export_val': 'sum'})"
      ],
      "execution_count": null,
      "outputs": []
    },
    {
      "cell_type": "code",
      "metadata": {
        "id": "ulqDBdG-PxwN"
      },
      "source": [
        "top_10_exports = top_10_exports.reset_index().sort_values('export_val',ascending=False).head(10)"
      ],
      "execution_count": null,
      "outputs": []
    },
    {
      "cell_type": "code",
      "metadata": {
        "colab": {
          "base_uri": "https://localhost:8080/",
          "height": 518
        },
        "id": "Mo-kwPB6WcG2",
        "outputId": "84f7f77b-f61c-4b35-c051-85f4f6f9dd00"
      },
      "source": [
        "import matplotlib.pyplot as plt\r\n",
        "\r\n",
        "plt.bar(top_10_exports['country_dest'], top_10_exports['export_val'], label=\"Blue Bar\", color='b')\r\n",
        "plt.plot()\r\n",
        "\r\n",
        "plt.xlabel(\"TOP 10\")\r\n",
        "plt.ylabel(\"EXPORT VALUE\")\r\n",
        "plt.title(\"TOP 10 EXPORTS\")\r\n",
        "plt.legend()\r\n",
        "plt.show()"
      ],
      "execution_count": null,
      "outputs": [
        {
          "output_type": "display_data",
          "data": {
            "image/png": "[encoded data removed]",
            "text/plain": [
              "<Figure size 1008x576 with 1 Axes>"
            ]
          },
          "metadata": {
            "tags": []
          }
        }
      ]
    },
    {
      "cell_type": "markdown",
      "metadata": {
        "id": "W1x5NEhPagSp"
      },
      "source": [
        "##Question 2: What is the top 10 countries from which Colombia imports its products and their evolution over time?"
      ]
    },
    {
      "cell_type": "code",
      "metadata": {
        "id": "vAI0IzT4cJuu"
      },
      "source": [
        "top_10_imports = df_colombia_imports.groupby(['country_origin']).agg({'import_val': 'sum'})"
      ],
      "execution_count": null,
      "outputs": []
    },
    {
      "cell_type": "code",
      "metadata": {
        "id": "iURJCQLncZBl"
      },
      "source": [
        "top_10_imports = top_10_imports.reset_index().sort_values('import_val',ascending=False).head(10)"
      ],
      "execution_count": null,
      "outputs": []
    },
    {
      "cell_type": "code",
      "metadata": {
        "colab": {
          "base_uri": "https://localhost:8080/",
          "height": 518
        },
        "id": "LDMQv7NpclnZ",
        "outputId": "27f2764a-b601-4620-eda7-0195f9de1fc6"
      },
      "source": [
        "plt.bar(top_10_imports['country_origin'], top_10_imports['import_val'], label=\"Blue Bar\", color='b')\r\n",
        "plt.plot()\r\n",
        "\r\n",
        "plt.xlabel(\"COUNTRIES\")\r\n",
        "plt.ylabel(\"IMPORT VALUE\")\r\n",
        "plt.title(\"TOP 10 IMPORTERS\")\r\n",
        "plt.legend()\r\n",
        "plt.show()"
      ],
      "execution_count": null,
      "outputs": [
        {
          "output_type": "display_data",
          "data": {
            "image/png": "[encoded data removed]",
            "text/plain": [
              "<Figure size 1008x576 with 1 Axes>"
            ]
          },
          "metadata": {
            "tags": []
          }
        }
      ]
    },
    {
      "cell_type": "markdown",
      "metadata": {
        "id": "1wfefplJd2Fo"
      },
      "source": [
        "##Question 3: Is there a product that, due to economic changes in supply / demand, has caused a decrease in the volume of money that moves with it?\r\n",
        "\r\n",
        "\r\n",
        "\r\n",
        "## **time is over**\r\n"
      ]
    },
    {
      "cell_type": "markdown",
      "metadata": {
        "id": "GwrTQRxxe6gi"
      },
      "source": [
        "##Question4: Which economic sectors are most important in Colombia's exports and why?"
      ]
    },
    {
      "cell_type": "code",
      "metadata": {
        "id": "mzsgSqk4e-Yi"
      },
      "source": [
        "top_sectors = df_colombia_exports.groupby(['name']).agg({'export_val': 'sum'})"
      ],
      "execution_count": null,
      "outputs": []
    },
    {
      "cell_type": "code",
      "metadata": {
        "id": "Qu4OcjXNfYp-"
      },
      "source": [
        "top_sectors = top_sectors.reset_index().sort_values('export_val',ascending=False).head(20)"
      ],
      "execution_count": null,
      "outputs": []
    },
    {
      "cell_type": "code",
      "metadata": {
        "colab": {
          "base_uri": "https://localhost:8080/",
          "height": 518
        },
        "id": "NyxEYwt_fmvg",
        "outputId": "8643ad47-fdc1-4cb7-ca92-bda1b6f93510"
      },
      "source": [
        "plt.bar(top_sectors['name'], top_sectors['export_val'], label=\"Blue Bar\", color='b')\r\n",
        "plt.plot()\r\n",
        "\r\n",
        "plt.xlabel(\"SECTORS NAME\")\r\n",
        "plt.ylabel(\"EXPORT VALUE\")\r\n",
        "plt.title(\"SECTORS VALUE\")\r\n",
        "plt.legend()\r\n",
        "plt.show()"
      ],
      "execution_count": null,
      "outputs": [
        {
          "output_type": "display_data",
          "data": {
            "image/png": "[encoded data removed]",
            "text/plain": [
              "<Figure size 1008x576 with 1 Axes>"
            ]
          },
          "metadata": {
            "tags": []
          }
        }
      ]
    },
    {
      "cell_type": "code",
      "metadata": {
        "colab": {
          "base_uri": "https://localhost:8080/",
          "height": 166
        },
        "id": "WBp0WTgUgiwW",
        "outputId": "6f8ab1ff-3e24-4ef0-9ae0-0405bd010801"
      },
      "source": [
        "topSector = top_sectors.head(4)\r\n",
        "topSector"
      ],
      "execution_count": null,
      "outputs": [
        {
          "output_type": "execute_result",
          "data": {
            "text/html": [
              "<div>\n",
              "<style scoped>\n",
              "    .dataframe tbody tr th:only-of-type {\n",
              "        vertical-align: middle;\n",
              "    }\n",
              "\n",
              "    .dataframe tbody tr th {\n",
              "        vertical-align: top;\n",
              "    }\n",
              "\n",
              "    .dataframe thead th {\n",
              "        text-align: right;\n",
              "    }\n",
              "</style>\n",
              "<table border=\"1\" class=\"dataframe\">\n",
              "  <thead>\n",
              "    <tr style=\"text-align: right;\">\n",
              "      <th></th>\n",
              "      <th>index</th>\n",
              "      <th>name</th>\n",
              "      <th>export_val</th>\n",
              "    </tr>\n",
              "  </thead>\n",
              "  <tbody>\n",
              "    <tr>\n",
              "      <th>0</th>\n",
              "      <td>146</td>\n",
              "      <td>Crude Petroleum</td>\n",
              "      <td>8.370031e+10</td>\n",
              "    </tr>\n",
              "    <tr>\n",
              "      <th>1</th>\n",
              "      <td>114</td>\n",
              "      <td>Coffee</td>\n",
              "      <td>7.688996e+10</td>\n",
              "    </tr>\n",
              "    <tr>\n",
              "      <th>2</th>\n",
              "      <td>104</td>\n",
              "      <td>Coal</td>\n",
              "      <td>7.030875e+10</td>\n",
              "    </tr>\n",
              "    <tr>\n",
              "      <th>3</th>\n",
              "      <td>43</td>\n",
              "      <td>Bananas</td>\n",
              "      <td>2.445966e+10</td>\n",
              "    </tr>\n",
              "  </tbody>\n",
              "</table>\n",
              "</div>"
            ],
            "text/plain": [
              "   index             name    export_val\n",
              "0    146  Crude Petroleum  8.370031e+10\n",
              "1    114           Coffee  7.688996e+10\n",
              "2    104             Coal  7.030875e+10\n",
              "3     43          Bananas  2.445966e+10"
            ]
          },
          "metadata": {
            "tags": []
          },
          "execution_count": 72
        }
      ]
    },
    {
      "cell_type": "code",
      "metadata": {
        "colab": {
          "base_uri": "https://localhost:8080/"
        },
        "id": "1KPhu6q3hbKg",
        "outputId": "bd92992f-e1af-4645-dded-e5eec9b09ff7"
      },
      "source": [
        "sum_export\r\n",
        "print(f'Export Total: {sum_export}')\r\n",
        "\r\n",
        "top4 = topSector['export_val'].sum()\r\n",
        "print(f'Export Total of Crude, Coffe, Coal and Bananas: {top4}')\r\n",
        "\r\n",
        "print(f'This four represent: {(top4/sum_export)*100}')\r\n"
      ],
      "execution_count": null,
      "outputs": [
        {
          "output_type": "stream",
          "text": [
            "Export Total: 816821769232.0\n",
            "Export Total of Crude, Coffe, Coal and Bananas: 255358668935.5\n",
            "This four represent: 31.262471025422812\n"
          ],
          "name": "stdout"
        }
      ]
    },
    {
      "cell_type": "markdown",
      "metadata": {
        "id": "D1gmdb8Ng9du"
      },
      "source": [
        "###The top sector are Crude Petroleum, Coffe, Coal and Bananas.\r\n",
        "\r\n",
        "This 4 sectors represents the 31% of all the exports"
      ]
    },
    {
      "cell_type": "markdown",
      "metadata": {
        "tags": [],
        "cell_id": "00004-cdb72f4b-4aef-4f6b-899c-01e4717f39e7",
        "deepnote_cell_type": "markdown",
        "id": "oUJDEN7rIC4m"
      },
      "source": [
        "# Modelo (opcional)\n",
        "\n",
        "Si necesitas agregar un modelo para mejorar tu análisis hazlo en esta sección del notebook. **La evaluación será contada como parte del análisis exploratorio y es completamente opcional**.\n",
        "\n",
        "- En el desarrollo del modelo se requiere una organización del código y la estructuración del propio modelo. Las celdas que ejecuten entrenamientos o búsqueda de parámetros deben estar con **verbose 0**, esto con el fin de no ensuciar la salida de código y agilizar su revisión.\n"
      ]
    },
    {
      "cell_type": "markdown",
      "metadata": {
        "id": "jjp45Xtajquk"
      },
      "source": [
        "\r\n",
        "## **time is over**"
      ]
    },
    {
      "cell_type": "code",
      "metadata": {
        "id": "OU-iKc25rLvh"
      },
      "source": [
        ""
      ],
      "execution_count": null,
      "outputs": []
    }
  ]
}